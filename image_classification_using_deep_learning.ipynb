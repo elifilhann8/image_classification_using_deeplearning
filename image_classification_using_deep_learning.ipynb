{
 "cells": [
  {
   "cell_type": "markdown",
   "id": "4cd493bf",
   "metadata": {},
   "source": [
    "# Deep Learning Algoritmaları ile Fotoğraflardaki Nesneleri Tanıma ve Sınıflandırma Projesi\n",
    "\n",
    "<IMG src=\"deep7.png\" width=\"750\" height=\"180\">\n",
    "    \n",
    "    "
   ]
  },
  {
   "cell_type": "code",
   "execution_count": 24,
   "id": "bf4a0b66",
   "metadata": {},
   "outputs": [],
   "source": [
    "import tensorflow as tf\n",
    "from tensorflow.keras import datasets, layers, models\n",
    "import pandas as pd\n",
    "import numpy as np\n",
    "import matplotlib.pyplot as plt\n"
   ]
  },
  {
   "cell_type": "markdown",
   "id": "f246b014",
   "metadata": {},
   "source": [
    "#### Datasetimizi (cifar10 verisetini) yüklüyoruz: (Yükleme işlemi için Internet bağlantınızın olması gerekiyor). Eğer bağlantınız yoksa  veri setini Internetten indirip de yükleyebilirsiniz.."
   ]
  },
  {
   "cell_type": "code",
   "execution_count": 25,
   "id": "7c7e954a",
   "metadata": {},
   "outputs": [],
   "source": [
    "(X_train, y_train), (X_test,y_test) = datasets.cifar10.load_data()\n"
   ]
  },
  {
   "cell_type": "code",
   "execution_count": 3,
   "id": "46e28c2f",
   "metadata": {},
   "outputs": [
    {
     "data": {
      "text/plain": [
       "(50000, 32, 32, 3)"
      ]
     },
     "execution_count": 3,
     "metadata": {},
     "output_type": "execute_result"
    }
   ],
   "source": [
    "X_train.shape"
   ]
  },
  {
   "cell_type": "markdown",
   "id": "ec46f9bc",
   "metadata": {},
   "source": [
    "#### Her bir fotoğraf 32 pixele-32 pixel kare boyutunda ve renkli 3 kanal RGB bilgileri olduğu için arrayımız bu şekilde..\n",
    "\n",
    "<IMG src=\"cifar10_images.jpg\" width=\"400\" height=\"400\">\n"
   ]
  },
  {
   "cell_type": "code",
   "execution_count": 4,
   "id": "ce8f44c1",
   "metadata": {},
   "outputs": [
    {
     "data": {
      "text/plain": [
       "(10000, 32, 32, 3)"
      ]
     },
     "execution_count": 4,
     "metadata": {},
     "output_type": "execute_result"
    }
   ],
   "source": [
    "X_test.shape"
   ]
  },
  {
   "cell_type": "code",
   "execution_count": 5,
   "id": "422376c2",
   "metadata": {},
   "outputs": [
    {
     "data": {
      "text/plain": [
       "array([[6],\n",
       "       [9],\n",
       "       [9]], dtype=uint8)"
      ]
     },
     "execution_count": 5,
     "metadata": {},
     "output_type": "execute_result"
    }
   ],
   "source": [
    "y_train[:3]"
   ]
  },
  {
   "cell_type": "markdown",
   "id": "72e20cba",
   "metadata": {},
   "source": [
    "y_train ve y_test 2 boyutlu bir array olarak tutuluyor cifar10 verisetinde. \n",
    "Biz bu verileri görsel olarak daha rahat anlamak için tek boyutlu hale getiriyoruz.\n",
    "2 boyutlu bir arrayi (sadece tekbir boyutunda veri var diğer boyutu boş olan tabi) tekboyutlu hale geitrmek için reshape() kullanıyoruz.."
   ]
  },
  {
   "cell_type": "code",
   "execution_count": 6,
   "id": "a26829fa",
   "metadata": {},
   "outputs": [],
   "source": [
    "y_test = y_test.reshape(-1,)"
   ]
  },
  {
   "cell_type": "code",
   "execution_count": 7,
   "id": "922962d4",
   "metadata": {},
   "outputs": [
    {
     "data": {
      "text/plain": [
       "array([3, 8, 8, ..., 5, 1, 7], dtype=uint8)"
      ]
     },
     "execution_count": 7,
     "metadata": {},
     "output_type": "execute_result"
    }
   ],
   "source": [
    "y_test "
   ]
  },
  {
   "cell_type": "markdown",
   "id": "59b4660e",
   "metadata": {},
   "source": [
    "#### Verilere bir göz atalım. bu amaçla kendimiz bir array oluşturuyoruz: "
   ]
  },
  {
   "cell_type": "code",
   "execution_count": 8,
   "id": "3b5c6bb2",
   "metadata": {},
   "outputs": [],
   "source": [
    "resim_siniflari = [\"airplane\",\"automobile\",\"bird\",\"cat\",\"deer\",\"dog\",\"frog\",\"horse\",\"ship\",\"truck\"]"
   ]
  },
  {
   "cell_type": "code",
   "execution_count": 9,
   "id": "1a8a38fc",
   "metadata": {},
   "outputs": [],
   "source": [
    "def plot_sample(X, y, index):\n",
    "    plt.figure(figsize = (15,2))\n",
    "    plt.imshow(X[index])        \n",
    "    plt.xlabel(resim_siniflari[y[index]])\n",
    "    plt.show()\n"
   ]
  },
  {
   "cell_type": "code",
   "execution_count": 10,
   "id": "a065b909",
   "metadata": {},
   "outputs": [
    {
     "data": {
      "image/png": "[encoded data removed]",
      "text/plain": [
       "<Figure size 1080x144 with 1 Axes>"
      ]
     },
     "metadata": {
      "needs_background": "light"
     },
     "output_type": "display_data"
    }
   ],
   "source": [
    "plot_sample(X_test, y_test, 0)"
   ]
  },
  {
   "cell_type": "code",
   "execution_count": 11,
   "id": "8dee36fa",
   "metadata": {},
   "outputs": [
    {
     "data": {
      "image/png": "[encoded data removed]",
      "text/plain": [
       "<Figure size 1080x144 with 1 Axes>"
      ]
     },
     "metadata": {
      "needs_background": "light"
     },
     "output_type": "display_data"
    }
   ],
   "source": [
    "plot_sample(X_test, y_test, 1)"
   ]
  },
  {
   "cell_type": "code",
   "execution_count": 12,
   "id": "5242f30a",
   "metadata": {},
   "outputs": [
    {
     "data": {
      "image/png": "[encoded data removed]",
      "text/plain": [
       "<Figure size 1080x144 with 1 Axes>"
      ]
     },
     "metadata": {
      "needs_background": "light"
     },
     "output_type": "display_data"
    }
   ],
   "source": [
    "plot_sample(X_test, y_test, 3)"
   ]
  },
  {
   "cell_type": "markdown",
   "id": "f76d165b",
   "metadata": {},
   "source": [
    "### Normalization\n",
    "\n",
    "Verilerimizi normalize etmemiz gerekiyor. Aksi takdirde CNN algoritmaları yanlış sonuç verebiliyor. Fotoğraflar RGB olarak 3 kanal ve her bir pixel 0-255 arasında değer aldığı için normalization için basitçe her bir pixel değerini 255'e bölmemiz yeterli.."
   ]
  },
  {
   "cell_type": "code",
   "execution_count": 13,
   "id": "f03a46da",
   "metadata": {},
   "outputs": [],
   "source": [
    "X_train = X_train / 255\n",
    "X_test = X_test / 255"
   ]
  },
  {
   "cell_type": "markdown",
   "id": "9c65da4c",
   "metadata": {},
   "source": [
    "### Deep Learning Algoritmamızı CNN - Convolutional Neural Network Kullanarak Tasarlıyoruz:"
   ]
  },
  {
   "cell_type": "code",
   "execution_count": 14,
   "id": "7ad227c3",
   "metadata": {},
   "outputs": [],
   "source": [
    "deep_learning_model = models.Sequential([\n",
    "    # İlk bölüm Convolution layer.. Bu kısımda fotoğraflardan tanımlama yapabilmek için özellikleri çıkarıyoruz...\n",
    "    layers.Conv2D(filters=32, kernel_size=(3, 3), activation='relu', input_shape=(32, 32, 3)),\n",
    "    layers.MaxPooling2D((2, 2)),\n",
    "    \n",
    "    layers.Conv2D(filters=64, kernel_size=(3, 3), activation='relu'),\n",
    "    layers.MaxPooling2D((2, 2)),\n",
    "    \n",
    "    # İkinci bölüm klasik Articial Neural Network olan layerımız.. Yukarıdaki özelliklerimiz ve training bilgilerine\n",
    "    # göre ANN modelimizi eğiteceğiz..\n",
    "    layers.Flatten(),\n",
    "    layers.Dense(64, activation='relu'),\n",
    "    layers.Dense(10, activation='softmax')\n",
    "])"
   ]
  },
  {
   "cell_type": "code",
   "execution_count": 15,
   "id": "ea797643",
   "metadata": {},
   "outputs": [],
   "source": [
    "deep_learning_model.compile(optimizer='adam',\n",
    "              loss='sparse_categorical_crossentropy',\n",
    "              metrics=['accuracy'])"
   ]
  },
  {
   "cell_type": "markdown",
   "id": "07e7456e",
   "metadata": {},
   "source": [
    "### Modelimizi eğitmeye başlayalım artık..."
   ]
  },
  {
   "cell_type": "code",
   "execution_count": 16,
   "id": "758a9635",
   "metadata": {},
   "outputs": [
    {
     "name": "stdout",
     "output_type": "stream",
     "text": [
      "Epoch 1/5\n",
      "1563/1563 [==============================] - 29s 19ms/step - loss: 1.4744 - accuracy: 0.4712\n",
      "Epoch 2/5\n",
      "1563/1563 [==============================] - 22s 14ms/step - loss: 1.1135 - accuracy: 0.6130\n",
      "Epoch 3/5\n",
      "1563/1563 [==============================] - 21s 14ms/step - loss: 0.9879 - accuracy: 0.6593\n",
      "Epoch 4/5\n",
      "1563/1563 [==============================] - 22s 14ms/step - loss: 0.9040 - accuracy: 0.6864\n",
      "Epoch 5/5\n",
      "1563/1563 [==============================] - 22s 14ms/step - loss: 0.8417 - accuracy: 0.7096\n"
     ]
    },
    {
     "data": {
      "text/plain": [
       "<tensorflow.python.keras.callbacks.History at 0x1fffbf50e50>"
      ]
     },
     "execution_count": 16,
     "metadata": {},
     "output_type": "execute_result"
    }
   ],
   "source": [
    "deep_learning_model.fit(X_train, y_train, epochs=5)"
   ]
  },
  {
   "cell_type": "code",
   "execution_count": 17,
   "id": "16b3d698",
   "metadata": {},
   "outputs": [
    {
     "name": "stdout",
     "output_type": "stream",
     "text": [
      "313/313 [==============================] - 1s 4ms/step - loss: 0.9484 - accuracy: 0.6778\n"
     ]
    },
    {
     "data": {
      "text/plain": [
       "[0.9484208822250366, 0.6777999997138977]"
      ]
     },
     "execution_count": 17,
     "metadata": {},
     "output_type": "execute_result"
    }
   ],
   "source": [
    "deep_learning_model.evaluate(X_test,y_test)"
   ]
  },
  {
   "cell_type": "code",
   "execution_count": 18,
   "id": "daa7b9e1",
   "metadata": {},
   "outputs": [
    {
     "data": {
      "text/plain": [
       "array([[1.15904540e-01, 4.76926594e-04, 6.84496835e-02, 4.41703856e-01,\n",
       "        4.38858056e-03, 1.79675698e-01, 7.06185400e-02, 5.42622525e-04,\n",
       "        1.13234565e-01, 5.00500482e-03],\n",
       "       [1.97112709e-02, 4.07467335e-02, 4.32840279e-05, 3.92761012e-06,\n",
       "        1.35496539e-05, 9.78707135e-07, 2.42389802e-07, 2.34234813e-06,\n",
       "        9.37596858e-01, 1.88078498e-03],\n",
       "       [4.97447364e-02, 5.40828332e-02, 3.10365064e-03, 8.91903474e-04,\n",
       "        2.01905053e-03, 1.66201164e-04, 5.49872711e-05, 1.49843260e-03,\n",
       "        8.62546325e-01, 2.58919019e-02]], dtype=float32)"
      ]
     },
     "execution_count": 18,
     "metadata": {},
     "output_type": "execute_result"
    }
   ],
   "source": [
    "y_pred = deep_learning_model.predict(X_test)\n",
    "y_pred[:3]"
   ]
  },
  {
   "cell_type": "code",
   "execution_count": 19,
   "id": "2e3fa72f",
   "metadata": {},
   "outputs": [
    {
     "data": {
      "text/plain": [
       "[3, 8, 8]"
      ]
     },
     "execution_count": 19,
     "metadata": {},
     "output_type": "execute_result"
    }
   ],
   "source": [
    "y_predictions_siniflari = [np.argmax(element) for element in y_pred]\n",
    "y_predictions_siniflari[:3]"
   ]
  },
  {
   "cell_type": "code",
   "execution_count": 20,
   "id": "86a95599",
   "metadata": {},
   "outputs": [
    {
     "data": {
      "text/plain": [
       "array([3, 8, 8], dtype=uint8)"
      ]
     },
     "execution_count": 20,
     "metadata": {},
     "output_type": "execute_result"
    }
   ],
   "source": [
    "y_test[:3]"
   ]
  },
  {
   "cell_type": "code",
   "execution_count": 22,
   "id": "e6da0a7b",
   "metadata": {},
   "outputs": [
    {
     "data": {
      "image/png": "[encoded data removed]",
      "text/plain": [
       "<Figure size 1080x144 with 1 Axes>"
      ]
     },
     "metadata": {
      "needs_background": "light"
     },
     "output_type": "display_data"
    }
   ],
   "source": [
    "plot_sample(X_test, y_test,0)"
   ]
  },
  {
   "cell_type": "code",
   "execution_count": 23,
   "id": "ce1c9d65",
   "metadata": {},
   "outputs": [
    {
     "data": {
      "text/plain": [
       "'cat'"
      ]
     },
     "execution_count": 23,
     "metadata": {},
     "output_type": "execute_result"
    }
   ],
   "source": [
    "resim_siniflari[y_predictions_siniflari[0]]"
   ]
  },
  {
   "cell_type": "code",
   "execution_count": 24,
   "id": "671acd2a",
   "metadata": {},
   "outputs": [
    {
     "data": {
      "image/png": "[encoded data removed]",
      "text/plain": [
       "<Figure size 1080x144 with 1 Axes>"
      ]
     },
     "metadata": {
      "needs_background": "light"
     },
     "output_type": "display_data"
    }
   ],
   "source": [
    "plot_sample(X_test, y_test,1)"
   ]
  },
  {
   "cell_type": "code",
   "execution_count": 25,
   "id": "ccb8fffa",
   "metadata": {},
   "outputs": [
    {
     "data": {
      "text/plain": [
       "'ship'"
      ]
     },
     "execution_count": 25,
     "metadata": {},
     "output_type": "execute_result"
    }
   ],
   "source": [
    "resim_siniflari[y_predictions_siniflari[1]]"
   ]
  },
  {
   "cell_type": "code",
   "execution_count": 26,
   "id": "65effc16",
   "metadata": {},
   "outputs": [
    {
     "data": {
      "image/png": "[encoded data removed]",
      "text/plain": [
       "<Figure size 1080x144 with 1 Axes>"
      ]
     },
     "metadata": {
      "needs_background": "light"
     },
     "output_type": "display_data"
    }
   ],
   "source": [
    "plot_sample(X_test, y_test,2)"
   ]
  },
  {
   "cell_type": "code",
   "execution_count": 27,
   "id": "1368787b",
   "metadata": {},
   "outputs": [
    {
     "data": {
      "text/plain": [
       "'ship'"
      ]
     },
     "execution_count": 27,
     "metadata": {},
     "output_type": "execute_result"
    }
   ],
   "source": [
    "resim_siniflari[y_predictions_siniflari[2]]"
   ]
  },
  {
   "cell_type": "code",
   "execution_count": 42,
   "id": "87f7ff7a",
   "metadata": {},
   "outputs": [
    {
     "name": "stdout",
     "output_type": "stream",
     "text": [
      "Epoch 1/20\n",
      "1563/1563 [==============================] - 24s 15ms/step - loss: 0.7888 - accuracy: 0.7261 - val_loss: 0.9289 - val_accuracy: 0.6810\n",
      "Epoch 2/20\n",
      "1563/1563 [==============================] - 22s 14ms/step - loss: 0.7439 - accuracy: 0.7427 - val_loss: 0.9147 - val_accuracy: 0.6895\n",
      "Epoch 3/20\n",
      "1563/1563 [==============================] - 23s 14ms/step - loss: 0.7031 - accuracy: 0.7563 - val_loss: 0.8960 - val_accuracy: 0.7059\n",
      "Epoch 4/20\n",
      "1563/1563 [==============================] - 23s 14ms/step - loss: 0.6643 - accuracy: 0.7705 - val_loss: 0.9219 - val_accuracy: 0.6900\n",
      "Epoch 5/20\n",
      "1563/1563 [==============================] - 24s 16ms/step - loss: 0.6306 - accuracy: 0.7810 - val_loss: 0.9334 - val_accuracy: 0.6948\n",
      "Epoch 6/20\n",
      "1563/1563 [==============================] - 24s 15ms/step - loss: 0.5967 - accuracy: 0.7914 - val_loss: 0.9588 - val_accuracy: 0.6862\n",
      "Epoch 7/20\n",
      "1563/1563 [==============================] - 23s 15ms/step - loss: 0.5730 - accuracy: 0.8000 - val_loss: 0.9507 - val_accuracy: 0.6993\n",
      "Epoch 8/20\n",
      "1563/1563 [==============================] - 24s 15ms/step - loss: 0.5400 - accuracy: 0.8111 - val_loss: 0.9645 - val_accuracy: 0.7000\n",
      "Epoch 9/20\n",
      "1563/1563 [==============================] - 24s 16ms/step - loss: 0.5172 - accuracy: 0.8191 - val_loss: 0.9764 - val_accuracy: 0.7021\n",
      "Epoch 10/20\n",
      "1563/1563 [==============================] - 24s 16ms/step - loss: 0.4896 - accuracy: 0.8283 - val_loss: 1.0464 - val_accuracy: 0.6883\n",
      "Epoch 11/20\n",
      "1563/1563 [==============================] - 25s 16ms/step - loss: 0.4661 - accuracy: 0.8343 - val_loss: 1.0458 - val_accuracy: 0.7016\n",
      "Epoch 12/20\n",
      "1563/1563 [==============================] - 26s 16ms/step - loss: 0.4403 - accuracy: 0.8446 - val_loss: 1.1231 - val_accuracy: 0.6843\n",
      "Epoch 13/20\n",
      "1563/1563 [==============================] - 26s 17ms/step - loss: 0.4244 - accuracy: 0.8500 - val_loss: 1.1302 - val_accuracy: 0.6920\n",
      "Epoch 14/20\n",
      "1563/1563 [==============================] - 25s 16ms/step - loss: 0.4012 - accuracy: 0.8577 - val_loss: 1.1447 - val_accuracy: 0.6870\n",
      "Epoch 15/20\n",
      "1563/1563 [==============================] - 25s 16ms/step - loss: 0.3831 - accuracy: 0.8630 - val_loss: 1.1895 - val_accuracy: 0.6868\n",
      "Epoch 16/20\n",
      "1563/1563 [==============================] - 24s 15ms/step - loss: 0.3601 - accuracy: 0.8722 - val_loss: 1.2443 - val_accuracy: 0.6775\n",
      "Epoch 17/20\n",
      "1563/1563 [==============================] - 24s 16ms/step - loss: 0.3420 - accuracy: 0.8781 - val_loss: 1.2909 - val_accuracy: 0.6862\n",
      "Epoch 18/20\n",
      "1563/1563 [==============================] - 25s 16ms/step - loss: 0.3281 - accuracy: 0.8817 - val_loss: 1.3335 - val_accuracy: 0.6804\n",
      "Epoch 19/20\n",
      "1563/1563 [==============================] - 26s 17ms/step - loss: 0.3108 - accuracy: 0.8879 - val_loss: 1.3337 - val_accuracy: 0.6859\n",
      "Epoch 20/20\n",
      "1563/1563 [==============================] - 25s 16ms/step - loss: 0.2929 - accuracy: 0.8950 - val_loss: 1.4717 - val_accuracy: 0.6668\n"
     ]
    }
   ],
   "source": [
    "deep_learning_model.compile(optimizer='adam', loss='sparse_categorical_crossentropy', metrics=['accuracy'])\n",
    "\n",
    "history = deep_learning_model.fit(X_train, y_train, epochs=20, \n",
    "                    validation_data=(X_test, y_test))"
   ]
  },
  {
   "cell_type": "code",
   "execution_count": 43,
   "id": "c0e400d8",
   "metadata": {},
   "outputs": [
    {
     "data": {
      "text/plain": [
       "<matplotlib.legend.Legend at 0x1fffb3e2b20>"
      ]
     },
     "execution_count": 43,
     "metadata": {},
     "output_type": "execute_result"
    },
    {
     "data": {
      "image/png": "[encoded data removed]",
      "text/plain": [
       "<Figure size 432x288 with 1 Axes>"
      ]
     },
     "metadata": {
      "needs_background": "light"
     },
     "output_type": "display_data"
    }
   ],
   "source": [
    "plt.plot(history.history['accuracy'], label='accuracy')\n",
    "plt.plot(history.history['val_accuracy'], label = 'val_accuracy')\n",
    "plt.xlabel('Epoch')\n",
    "plt.ylabel('Accuracy')\n",
    "plt.ylim([0.5, 1])\n",
    "plt.legend(loc='lower right')"
   ]
  },
  {
   "cell_type": "code",
   "execution_count": null,
   "id": "b67ed586",
   "metadata": {},
   "outputs": [],
   "source": []
  }
 ],
 "metadata": {
  "kernelspec": {
   "display_name": "Python 3",
   "language": "python",
   "name": "python3"
  },
  "language_info": {
   "codemirror_mode": {
    "name": "ipython",
    "version": 3
   },
   "file_extension": ".py",
   "mimetype": "text/x-python",
   "name": "python",
   "nbconvert_exporter": "python",
   "pygments_lexer": "ipython3",
   "version": "3.8.8"
  }
 },
 "nbformat": 4,
 "nbformat_minor": 5
}
